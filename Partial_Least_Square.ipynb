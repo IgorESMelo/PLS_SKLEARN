{
  "nbformat": 4,
  "nbformat_minor": 0,
  "metadata": {
    "colab": {
      "provenance": [],
      "mount_file_id": "1_uQCfO1XHvXc83D26OujWGhtJMGtaguJ",
      "authorship_tag": "ABX9TyMBlHxMfs4g+DQiUpdLQWB0",
      "include_colab_link": true
    },
    "kernelspec": {
      "name": "python3",
      "display_name": "Python 3"
    },
    "language_info": {
      "name": "python"
    }
  },
  "cells": [
    {
      "cell_type": "markdown",
      "metadata": {
        "id": "view-in-github",
        "colab_type": "text"
      },
      "source": [
        "<a href=\"https://colab.research.google.com/github/IgorESMelo/PLS_SKLEARN/blob/main/Partial_Least_Square.ipynb\" target=\"_parent\"><img src=\"https://colab.research.google.com/assets/colab-badge.svg\" alt=\"Open In Colab\"/></a>"
      ]
    },
    {
      "cell_type": "markdown",
      "source": [
        "# (2)"
      ],
      "metadata": {
        "id": "FvRc8w7yVw-y"
      }
    },
    {
      "cell_type": "markdown",
      "source": [
        "# Importando os dados do drive\n",
        "Aqui é importante manter o arquivo em csv dentro da sua pasta MyDrive, caso contrário não funcionará. "
      ],
      "metadata": {
        "id": "GZ7rDPHfm1xQ"
      }
    },
    {
      "cell_type": "code",
      "source": [
        "import pandas as pd\n",
        "from google.colab import files\n",
        "\n",
        "uploaded = files.upload()\n",
        "#df = pd.read_csv ('/content/drive/MyDrive/SPIRA_PLS_Train.csv', sep = ';')\n",
        "df = pd.read_csv ('SPIRA_PLS_Train.csv', sep = ';')\n",
        "uploaded = files.upload()\n",
        "#df_test = pd.read_csv ('/content/drive/MyDrive/SPIRA_PLS_Test.csv', sep = ';')\n",
        "df_test = pd.read_csv ('SPIRA_PLS_Test.csv', sep = ';')"
      ],
      "metadata": {
        "id": "qiNP-YVJkc9I"
      },
      "execution_count": 215,
      "outputs": []
    },
    {
      "cell_type": "markdown",
      "source": [
        "# Limpando os dados\n",
        "Os dados vieram com algumas sujeiras que serão retiradas aqui no pre-processamento"
      ],
      "metadata": {
        "id": "_J_iNYgNnCcf"
      }
    },
    {
      "cell_type": "code",
      "source": [
        "df = df.dropna()\n",
        "df = df.replace({',': '.'}, regex=True)\n",
        "df_test = df.dropna()\n",
        "df_test = df.replace({',': '.'}, regex=True)\n",
        "df"
      ],
      "metadata": {
        "id": "nchnltxsnKEx"
      },
      "execution_count": null,
      "outputs": []
    },
    {
      "cell_type": "markdown",
      "source": [
        "# Dividindo Treino/Teste\n",
        "Como todos os dados estão unidos, criaremos um vetor para Y e uma matrix para X"
      ],
      "metadata": {
        "id": "4oxZsO55nOuP"
      }
    },
    {
      "cell_type": "code",
      "source": [
        "y_train = df['Y']\n",
        "df.drop('Y', axis = 1, inplace = True)\n",
        "X_train = df.copy()"
      ],
      "metadata": {
        "id": "DaFLlCTLkc2i"
      },
      "execution_count": 201,
      "outputs": []
    },
    {
      "cell_type": "markdown",
      "source": [
        "# Criação do modelo inicial\n",
        "Vamos criar um modelo inicial para o pls com os dados disponíveis"
      ],
      "metadata": {
        "id": "mF6-3UM0nXoO"
      }
    },
    {
      "cell_type": "code",
      "source": [
        "from sklearn.cross_decomposition import PLSRegression\n",
        "\n",
        "# Define PLS object\n",
        "pls = PLSRegression(n_components=2)\n",
        "\n",
        "# Fit\n",
        "pls.fit(X_train, y_train)"
      ],
      "metadata": {
        "colab": {
          "base_uri": "https://localhost:8080/"
        },
        "id": "t90tqUX1mYee",
        "outputId": "1acdc03c-0e4a-4767-e39c-8c947dce30fd"
      },
      "execution_count": 202,
      "outputs": [
        {
          "output_type": "execute_result",
          "data": {
            "text/plain": [
              "PLSRegression()"
            ]
          },
          "metadata": {},
          "execution_count": 202
        }
      ]
    },
    {
      "cell_type": "code",
      "source": [
        "from sklearn.metrics import mean_squared_error, r2_score\n",
        "from sklearn.model_selection import cross_val_predict\n",
        " \n",
        "# Cross-validation\n",
        "y_train_pred = cross_val_predict(pls, X_train, y_train, cv=100)\n",
        " \n",
        "# Calculate scores\n",
        "score = r2_score(y_train, y_train_pred)\n",
        "rmse = (mean_squared_error(y_train, y_train_pred))**(1/2)\n",
        "print(\"R²: \", score, \"\\nRMSE: \", rmse)"
      ],
      "metadata": {
        "id": "zGO6hrpA17xn",
        "colab": {
          "base_uri": "https://localhost:8080/"
        },
        "outputId": "cdeb4b46-30ba-4afb-d1ca-5b92765bb758"
      },
      "execution_count": 203,
      "outputs": [
        {
          "output_type": "stream",
          "name": "stdout",
          "text": [
            "R²:  0.40383839804477095 \n",
            "RMSE:  0.24077703933435152\n"
          ]
        }
      ]
    },
    {
      "cell_type": "code",
      "source": [
        "# Calculando o erro\n",
        "erro = float(0)\n",
        "list_y_pred = list(y_train_pred)\n",
        "list_y = list(y_train)\n",
        "\n",
        "for i in range(len(y_train_pred)):\n",
        "  value1 = float(list_y_pred[i])\n",
        "  value2 = float(list_y[i])\n",
        "  erro = erro + ((value1 - value2)**2)\n",
        "erro = erro**(1/2)\n",
        "erro"
      ],
      "metadata": {
        "colab": {
          "base_uri": "https://localhost:8080/"
        },
        "id": "CI2equfkv6kB",
        "outputId": "a4095a66-6876-47b9-c3fe-69b181979fb5"
      },
      "execution_count": 204,
      "outputs": [
        {
          "output_type": "execute_result",
          "data": {
            "text/plain": [
              "2.5022283925386413"
            ]
          },
          "metadata": {},
          "execution_count": 204
        }
      ]
    },
    {
      "cell_type": "markdown",
      "source": [
        "# Testando para diferentes números de componentes principais"
      ],
      "metadata": {
        "id": "L0fEHXwKr9-A"
      }
    },
    {
      "cell_type": "code",
      "source": [
        "from sklearn.model_selection import GridSearchCV                                  # Import grid method\n",
        "\n",
        "param_grid = [                                                                    # Defining parameters to grid method\n",
        "    {'n_components': [1, 2, 3, 4, 5, 6, 7, 8, 9, 10, 11, 12]},                    # Defining the first set of parameters\n",
        "]\n",
        "\n",
        "grid_search = GridSearchCV( pls, param_grid, cv = 100,                            # Define grid search with randForest and 10 folds\n",
        "                            scoring = 'neg_mean_squared_error',                   # Using MSE como parâmetro de erro\n",
        "                            return_train_score = True)\n",
        "\n",
        "grid_search.fit(X_train, y_train)                                                 # Running the tuning"
      ],
      "metadata": {
        "colab": {
          "base_uri": "https://localhost:8080/"
        },
        "id": "VFFG7sC_rySR",
        "outputId": "b0955b06-6d14-474f-d89a-15c66f770461"
      },
      "execution_count": 205,
      "outputs": [
        {
          "output_type": "execute_result",
          "data": {
            "text/plain": [
              "GridSearchCV(cv=100, estimator=PLSRegression(),\n",
              "             param_grid=[{'n_components': [1, 2, 3, 4, 5, 6, 7, 8, 9, 10, 11,\n",
              "                                           12]}],\n",
              "             return_train_score=True, scoring='neg_mean_squared_error')"
            ]
          },
          "metadata": {},
          "execution_count": 205
        }
      ]
    },
    {
      "cell_type": "code",
      "source": [
        "grid_search.best_params_      # Printing the best combination of parameters"
      ],
      "metadata": {
        "colab": {
          "base_uri": "https://localhost:8080/"
        },
        "id": "bRhh_kUBtFr4",
        "outputId": "74524f4b-1be8-4cac-f9a5-2dd5a8dd575a"
      },
      "execution_count": 206,
      "outputs": [
        {
          "output_type": "execute_result",
          "data": {
            "text/plain": [
              "{'n_components': 2}"
            ]
          },
          "metadata": {},
          "execution_count": 206
        }
      ]
    },
    {
      "cell_type": "code",
      "source": [
        "# Printing the scores of all the combinations\n",
        "RMSE = []\n",
        "X = list(range(1,12+1))\n",
        "cvres = grid_search.cv_results_                                             # Save all the results in a array\n",
        "for mean_score, params in zip(cvres[\"mean_test_score\"], cvres[\"params\"]):   # Getting the mean_score and parameters used from array\n",
        "  #value = np.sqrt(-mean_score)\n",
        "  RMSE.append(-mean_score)\n",
        "  print(-mean_score, params)                                                # Printing the values"
      ],
      "metadata": {
        "colab": {
          "base_uri": "https://localhost:8080/"
        },
        "id": "5q7-yHsTtJO5",
        "outputId": "c7cfc74f-47b4-4f61-cba5-fd9a3a18a40f"
      },
      "execution_count": 207,
      "outputs": [
        {
          "output_type": "stream",
          "name": "stdout",
          "text": [
            "0.06500740626710554 {'n_components': 1}\n",
            "0.06039678047239197 {'n_components': 2}\n",
            "0.06150171707404304 {'n_components': 3}\n",
            "0.0632389130216856 {'n_components': 4}\n",
            "0.06476475910817142 {'n_components': 5}\n",
            "0.0696427777768827 {'n_components': 6}\n",
            "0.0794745871451006 {'n_components': 7}\n",
            "0.08709403653356265 {'n_components': 8}\n",
            "0.0953154241302121 {'n_components': 9}\n",
            "0.10577701607596192 {'n_components': 10}\n",
            "0.11136010818768999 {'n_components': 11}\n",
            "0.11741424285086445 {'n_components': 12}\n"
          ]
        }
      ]
    },
    {
      "cell_type": "code",
      "source": [
        "import matplotlib.pyplot as plt\n",
        "\n",
        "#plot test RMSE vs. number of components\n",
        "plt.plot(X, RMSE)\n",
        "plt.xlabel('Number of PLS Components')\n",
        "plt.ylabel('RMSE')\n",
        "plt.title('hp')"
      ],
      "metadata": {
        "colab": {
          "base_uri": "https://localhost:8080/",
          "height": 312
        },
        "id": "wO8CsmpetpBH",
        "outputId": "665bb678-8ebe-4adf-c8ea-cbdb0af80de5"
      },
      "execution_count": 208,
      "outputs": [
        {
          "output_type": "execute_result",
          "data": {
            "text/plain": [
              "Text(0.5, 1.0, 'hp')"
            ]
          },
          "metadata": {},
          "execution_count": 208
        },
        {
          "output_type": "display_data",
          "data": {
            "text/plain": [
              "<Figure size 432x288 with 1 Axes>"
            ],
            "image/png": "[encoded data removed]"
          },
          "metadata": {
            "needs_background": "light"
          }
        }
      ]
    },
    {
      "cell_type": "code",
      "source": [
        "df_coef = pd.DataFrame(pls.coef_, columns = ['Coef'])\n",
        "df_coef.sort_values(['Coef'], ascending = False)\n",
        "print(df_coef['Coef'].tolist())"
      ],
      "metadata": {
        "colab": {
          "base_uri": "https://localhost:8080/"
        },
        "id": "LhTn0HA03bxN",
        "outputId": "51d9036b-0f35-42d1-d442-47904f0fa3fd"
      },
      "execution_count": 211,
      "outputs": [
        {
          "output_type": "stream",
          "name": "stdout",
          "text": [
            "[-0.0008857282166098435, 0.006099043018297807, 0.005822741126906909, -0.0012643851425257213, 0.01226643402708853, 0.010682752762736288, -0.004445919633848733, 0.003351440705603807, 0.0025976150387005525, 0.002076791468070053, -0.009013924158619001, -0.0059157873885554435, 0.01602208372157257, -0.005959596983008144, 0.016117900428786226, -0.004470256358790255, -0.0012075631732297366, -0.001150164323134308, -0.0017051282738519606, 0.004513842834245137, 0.0027177720484957576, 0.0012138038637621114, 0.005400346629745712, 0.005214675943853041, -0.011878875832838438, -0.013248324123114824, -0.006594453914352562, 0.0032291847710051906, -0.0004031961993849523, -0.0007382635688343382, -0.013868563246951087, -0.015124459640616065, -0.0017552079542311305, 0.007949085964328246, 0.007798093484820093, -4.5974105308912046e-05, 0.0023533187746437776, -0.0028558648171577612, -0.0036055006995911465, 0.002657579203165673, 0.0075695452261784445, -0.008751182984185285, 0.0032742694021666513, -0.0025153794594624155, -0.0059428122629323265, -0.0067014494184266275, -0.00558413491629281, -0.01208444873312208, -0.01781509287927141, -0.011175815887714923, -0.012968717930675127, 0.012666541504191935, -0.0012789157449029885, -0.0018503429195143029, 0.0017668028469651456, -0.012346236667377171, -0.0012410757712932388, 0.0023560097127635366, 0.0009865935272684663, 0.002990294243985067, 0.013995334979733742, 0.008186341839023554, -0.0013227625000745526, -0.004148089236227928, -0.014226845771859519, -0.004783216544668397, 0.011272827433751815, 0.00011076697575545039, -0.006699867147783992, -0.007414491969936891, -0.02619505745783328, -0.019084765034873778, -0.007390345810779047, -0.0020134860956768767, 0.014218181913970635, 0.011438731882194757, -0.018369082646265474, 0.018539919373111426, 0.006506773115360362, 0.011766255652712743, -0.008956813488727636, -0.000717278005807865, -0.004305283193279307, -0.012174843919207246, -0.0041620391316062365, -0.012283512459018969, -0.009267835099221125, 0.007648034033565423, -0.013550267748582773, -0.0034489795372704365, 0.00634808416735788, 0.0034489795372704365, -0.001808591227458408, -0.005019741867903163, 0.005804002788708535, 0.005552045343253803]\n"
          ]
        }
      ]
    },
    {
      "cell_type": "code",
      "source": [
        "print(pls.get_params())"
      ],
      "metadata": {
        "id": "W7EUJdnLO0_i"
      },
      "execution_count": null,
      "outputs": []
    },
    {
      "cell_type": "code",
      "source": [
        "import numpy as np\n",
        "\n",
        "lista = [y_train_pred]\n",
        "lista"
      ],
      "metadata": {
        "id": "b2i0tCoTqt_7"
      },
      "execution_count": null,
      "outputs": []
    },
    {
      "cell_type": "markdown",
      "source": [
        "# Rodando o modelo apenas com as variáveis mais importantes"
      ],
      "metadata": {
        "id": "XSI8vBUaQsvT"
      }
    },
    {
      "cell_type": "code",
      "source": [
        "# Vamos começar testando com as variáveis selecionadas\n",
        "columns = ['x71', 'x72', 'x78', 'x77', 'x49', 'x15', 'x13', 'x32', \n",
        "           'x65', 'x75', 'x61', 'x31', 'x89', 'x26', 'x51', 'x52', \n",
        "           'x56', 'x86', 'x5', 'x84', 'x48', 'x25', 'x80', 'x76', \n",
        "           'x67', 'x50', 'x6']\n",
        "X_test = df_test[columns].copy()\n",
        "y_test = df_test['Y']\n",
        "df_test.drop('Y', axis = 1, inplace = True)"
      ],
      "metadata": {
        "id": "sFFDIKVSQxEE"
      },
      "execution_count": 217,
      "outputs": []
    },
    {
      "cell_type": "code",
      "source": [
        "# Define PLS object\n",
        "pls = PLSRegression(n_components=2)\n",
        "\n",
        "# Fit\n",
        "pls.fit(X_test, y_test)"
      ],
      "metadata": {
        "colab": {
          "base_uri": "https://localhost:8080/"
        },
        "id": "7BgCn9a_T5N8",
        "outputId": "3fecf65b-bf94-4b16-f96a-e5c8fb2765fc"
      },
      "execution_count": 218,
      "outputs": [
        {
          "output_type": "execute_result",
          "data": {
            "text/plain": [
              "PLSRegression()"
            ]
          },
          "metadata": {},
          "execution_count": 218
        }
      ]
    },
    {
      "cell_type": "code",
      "source": [
        "# Cross-validation\n",
        "y_test_pred = cross_val_predict(pls, X_test, y_test, cv=100)\n",
        " \n",
        "# Calculate scores\n",
        "score = r2_score(y_test, y_test_pred)\n",
        "rmse = (mean_squared_error(y_test, y_test_pred))**(1/2)\n",
        "print(\"R²: \", score, \"\\nRMSE: \", rmse)"
      ],
      "metadata": {
        "colab": {
          "base_uri": "https://localhost:8080/"
        },
        "id": "Eg1Q7ZcRUMjy",
        "outputId": "90961a66-25fd-49df-8a1e-c2952b7efdeb"
      },
      "execution_count": 219,
      "outputs": [
        {
          "output_type": "stream",
          "name": "stdout",
          "text": [
            "R²:  0.5370594357840086 \n",
            "RMSE:  0.21217572173060412\n"
          ]
        }
      ]
    },
    {
      "cell_type": "code",
      "source": [
        "# Testar com todas as variáveis\n",
        "X_test = df_test.copy()\n",
        "\n",
        "# Cross-validation\n",
        "y_test_pred = cross_val_predict(pls, X_test, y_test, cv=100)\n",
        " \n",
        "# Calculate scores\n",
        "score = r2_score(y_test, y_test_pred)\n",
        "rmse = (mean_squared_error(y_test, y_test_pred))**(1/2)\n",
        "print(\"R²: \", score, \"\\nRMSE: \", rmse)"
      ],
      "metadata": {
        "colab": {
          "base_uri": "https://localhost:8080/"
        },
        "id": "bvogHMZBU0xn",
        "outputId": "b28d7469-5ee8-4ffe-b382-944f54d3acba"
      },
      "execution_count": 220,
      "outputs": [
        {
          "output_type": "stream",
          "name": "stdout",
          "text": [
            "R²:  0.40383839804477095 \n",
            "RMSE:  0.24077703933435152\n"
          ]
        }
      ]
    },
    {
      "cell_type": "markdown",
      "source": [
        "# Testando um código externo"
      ],
      "metadata": {
        "id": "RLkV1n4qzF9A"
      }
    },
    {
      "cell_type": "code",
      "source": [
        "def optimise_pls_cv(X, y, n_comp, plot_components=True):\n",
        " \n",
        "    '''Run PLS including a variable number of components, up to n_comp,\n",
        "       and calculate MSE '''\n",
        " \n",
        "    mse = []\n",
        "    component = np.arange(1, n_comp)\n",
        " \n",
        "    for i in component:\n",
        "        pls = PLSRegression(n_components=i)\n",
        " \n",
        "        # Cross-validation\n",
        "        y_cv = cross_val_predict(pls, X, y, cv=10)\n",
        " \n",
        "        mse.append(mean_squared_error(y, y_cv))\n",
        " \n",
        "        comp = 100*(i+1)/40\n",
        "    #     # Trick to update status on the same line\n",
        "    #     stdout.write(\"\\r%d%% completed\" % comp)\n",
        "    #     stdout.flush()\n",
        "    # stdout.write(\"\\n\")\n",
        " \n",
        "    # Calculate and print the position of minimum in MSE\n",
        "    msemin = np.argmin(mse)\n",
        "    print(\"Suggested number of components: \", msemin+1)\n",
        "    # stdout.write(\"\\n\")\n",
        " \n",
        "    if plot_components is True:\n",
        "        with plt.style.context(('ggplot')):\n",
        "            plt.plot(component, np.array(mse), '-v', color = 'blue', mfc='blue')\n",
        "            plt.plot(component[msemin], np.array(mse)[msemin], 'P', ms=10, mfc='red')\n",
        "            plt.xlabel('Number of PLS components')\n",
        "            plt.ylabel('MSE')\n",
        "            plt.title('PLS')\n",
        "            plt.xlim(left=-1)\n",
        " \n",
        "        plt.show()\n",
        " \n",
        "    # Define PLS object with optimal number of components\n",
        "    pls_opt = PLSRegression(n_components=msemin+1)\n",
        " \n",
        "    # Fir to the entire dataset\n",
        "    pls_opt.fit(X, y)\n",
        "    y_c = pls_opt.predict(X)\n",
        " \n",
        "    # Cross-validation\n",
        "    y_cv = cross_val_predict(pls_opt, X, y, cv=10)\n",
        " \n",
        "    # Calculate scores for calibration and cross-validation\n",
        "    score_c = r2_score(y, y_c)\n",
        "    score_cv = r2_score(y, y_cv)\n",
        " \n",
        "    # Calculate mean squared error for calibration and cross validation\n",
        "    mse_c = mean_squared_error(y, y_c)\n",
        "    mse_cv = mean_squared_error(y, y_cv)\n",
        " \n",
        "    print('R2 calib: %5.3f'  % score_c)\n",
        "    print('R2 CV: %5.3f'  % score_cv)\n",
        "    print('MSE calib: %5.3f' % mse_c)\n",
        "    print('MSE CV: %5.3f' % mse_cv)\n",
        " \n",
        "    # Plot regression and figures of merit\n",
        "    rangey = max(y) - min(y)\n",
        "    rangex = max(y_c) - min(y_c)\n",
        " \n",
        "    # Fit a line to the CV vs response\n",
        "    z = np.polyfit(y, y_c, 1)\n",
        "    with plt.style.context(('ggplot')):\n",
        "        fig, ax = plt.subplots(figsize=(9, 5))\n",
        "        ax.scatter(y_c, y, c='red', edgecolors='k')\n",
        "        #Plot the best fit line\n",
        "        ax.plot(np.polyval(z,y), y, c='blue', linewidth=1)\n",
        "        #Plot the ideal 1:1 line\n",
        "        ax.plot(y, y, color='green', linewidth=1)\n",
        "        plt.title('$R^{2}$ (CV): '+str(score_cv))\n",
        "        plt.xlabel('Predicted $^{\\circ}$Brix')\n",
        "        plt.ylabel('Measured $^{\\circ}$Brix')\n",
        " \n",
        "        plt.show()\n",
        " \n",
        "    return"
      ],
      "metadata": {
        "id": "O7m9RWnKzFLp"
      },
      "execution_count": null,
      "outputs": []
    },
    {
      "cell_type": "code",
      "source": [
        "optimise_pls_cv(X_train,y_train, 30, plot_components=True)"
      ],
      "metadata": {
        "id": "EK3M2EJFz4Ys"
      },
      "execution_count": null,
      "outputs": []
    },
    {
      "cell_type": "markdown",
      "source": [
        "# (3) "
      ],
      "metadata": {
        "id": "yI6Aar1FVs4-"
      }
    },
    {
      "cell_type": "code",
      "source": [
        "import pandas as pd\n",
        "\n",
        "uploaded = files.upload()\n",
        "df_completo = pd.read_csv ('SPIRA_PLS.csv', sep = ';')\n",
        "#df_completo = pd.read_csv ('/content/drive/MyDrive/SPIRA_PLS.csv', sep = ';')\n",
        "df_completo = df_completo.dropna()\n",
        "df_completo = df_completo.replace({',': '.'}, regex=True)"
      ],
      "metadata": {
        "id": "9n164a1OV0De"
      },
      "execution_count": 221,
      "outputs": []
    },
    {
      "cell_type": "code",
      "source": [
        "# Testando 40/60\n",
        "from sklearn.model_selection import train_test_split                                # Import the function by sklearn library\n",
        "\n",
        "data_train, data_test = train_test_split(df_completo, test_size = 0.4, random_state = 42)   # Split the dataframe in train and test\n",
        "print(\"The size of train set is: \", len(data_train))                                        # Printing the size of train set\n",
        "print(\"The size of test set is:  \", len(data_test))                                         # Printing the size of test set"
      ],
      "metadata": {
        "colab": {
          "base_uri": "https://localhost:8080/"
        },
        "id": "ZAZ15jHHWDiC",
        "outputId": "59d0bf39-4e22-4cc9-f622-eb748b56e8eb"
      },
      "execution_count": 234,
      "outputs": [
        {
          "output_type": "stream",
          "name": "stdout",
          "text": [
            "The size of train set is:  87\n",
            "The size of test set is:   58\n"
          ]
        }
      ]
    },
    {
      "cell_type": "code",
      "source": [
        "y_train = data_train['Y']\n",
        "data_train.drop('Y', axis = 1, inplace = True)\n",
        "X_train = data_train.copy()"
      ],
      "metadata": {
        "id": "H0BzmzApXFt1"
      },
      "execution_count": 235,
      "outputs": []
    },
    {
      "cell_type": "code",
      "source": [
        "y_test = data_test['Y']\n",
        "data_test.drop('Y', axis = 1, inplace = True)\n",
        "X_test = data_test.copy()"
      ],
      "metadata": {
        "id": "b5QyeP5JXlaH"
      },
      "execution_count": 236,
      "outputs": []
    },
    {
      "cell_type": "code",
      "source": [
        "# Define PLS object\n",
        "pls = PLSRegression(n_components=2)\n",
        "\n",
        "# Fit\n",
        "pls.fit(X_train, y_train)"
      ],
      "metadata": {
        "id": "i-ebd9TGW-C4"
      },
      "execution_count": null,
      "outputs": []
    },
    {
      "cell_type": "code",
      "source": [
        "# Cross-validation\n",
        "y_test_pred = cross_val_predict(pls, X_test, y_test, cv=10)\n",
        " \n",
        "# Calculate scores\n",
        "score = r2_score(y_test, y_test_pred)\n",
        "rmse = (mean_squared_error(y_test, y_test_pred))**(1/2)\n",
        "print(\"R²: \", score, \"\\nRMSE: \", rmse)"
      ],
      "metadata": {
        "colab": {
          "base_uri": "https://localhost:8080/"
        },
        "id": "rhXDRnjHWdZ8",
        "outputId": "cd8c26a2-ea87-4aae-a6ba-c10f14371358"
      },
      "execution_count": 228,
      "outputs": [
        {
          "output_type": "stream",
          "name": "stdout",
          "text": [
            "R²:  0.5661755089136158 \n",
            "RMSE:  0.2117534271651134\n"
          ]
        }
      ]
    },
    {
      "cell_type": "code",
      "source": [
        "# Testando 10/90\n",
        "from sklearn.model_selection import train_test_split                                # Import the function by sklearn library\n",
        "\n",
        "data_train, data_test = train_test_split(df_completo, test_size = 0.1, random_state = 42)   # Split the dataframe in train and test\n",
        "print(\"The size of train set is: \", len(data_train))                                        # Printing the size of train set\n",
        "print(\"The size of test set is:  \", len(data_test))                                         # Printing the size of test set"
      ],
      "metadata": {
        "colab": {
          "base_uri": "https://localhost:8080/"
        },
        "id": "SQOrd_viXxZQ",
        "outputId": "57a0fecc-610b-45dc-c294-85fc1ae245b2"
      },
      "execution_count": 229,
      "outputs": [
        {
          "output_type": "stream",
          "name": "stdout",
          "text": [
            "The size of train set is:  130\n",
            "The size of test set is:   15\n"
          ]
        }
      ]
    },
    {
      "cell_type": "code",
      "source": [
        "y_train = data_train['Y']\n",
        "data_train.drop('Y', axis = 1, inplace = True)\n",
        "X_train = data_train.copy()"
      ],
      "metadata": {
        "id": "ZLdFgFwqX7Mw"
      },
      "execution_count": 230,
      "outputs": []
    },
    {
      "cell_type": "code",
      "source": [
        "y_test = data_test['Y']\n",
        "data_test.drop('Y', axis = 1, inplace = True)\n",
        "X_test = data_test.copy()"
      ],
      "metadata": {
        "id": "hcfiSMu0X-Kr"
      },
      "execution_count": 231,
      "outputs": []
    },
    {
      "cell_type": "code",
      "source": [
        "# Define PLS object\n",
        "pls = PLSRegression(n_components=2)\n",
        "\n",
        "# Fit\n",
        "pls.fit(X_train, y_train)"
      ],
      "metadata": {
        "colab": {
          "base_uri": "https://localhost:8080/"
        },
        "id": "XVJ4buSkYCuW",
        "outputId": "48f3efea-e9c5-468a-861b-5f7a13167774"
      },
      "execution_count": 232,
      "outputs": [
        {
          "output_type": "execute_result",
          "data": {
            "text/plain": [
              "PLSRegression()"
            ]
          },
          "metadata": {},
          "execution_count": 232
        }
      ]
    },
    {
      "cell_type": "code",
      "source": [
        "# Cross-validation\n",
        "y_test_pred = cross_val_predict(pls, X_test, y_test, cv=10)\n",
        " \n",
        "# Calculate scores\n",
        "score = r2_score(y_test, y_test_pred)\n",
        "rmse = (mean_squared_error(y_test, y_test_pred))**(1/2)\n",
        "print(\"R²: \", score, \"\\nRMSE: \", rmse)"
      ],
      "metadata": {
        "colab": {
          "base_uri": "https://localhost:8080/"
        },
        "id": "B3WAXRRiYDtZ",
        "outputId": "63282818-2315-420b-addd-9120e3d7a15e"
      },
      "execution_count": 233,
      "outputs": [
        {
          "output_type": "stream",
          "name": "stdout",
          "text": [
            "R²:  0.14386305586251003 \n",
            "RMSE:  0.2433428818167236\n"
          ]
        }
      ]
    },
    {
      "cell_type": "markdown",
      "source": [
        "# (4) Executando um modelo de regressão linear"
      ],
      "metadata": {
        "id": "mZ-S-Y6UYral"
      }
    },
    {
      "cell_type": "code",
      "source": [
        "# Vamos rodar de regressão para a porcao 60/40 (será necessário executar as células de atribuição das variáveis 60/40)\n",
        "from sklearn.linear_model import LinearRegression\n",
        "\n",
        "lin_reg = LinearRegression()\n",
        "lin_reg.fit(X_train, y_train)"
      ],
      "metadata": {
        "colab": {
          "base_uri": "https://localhost:8080/"
        },
        "id": "FmDd2EldYvdm",
        "outputId": "c61f5fac-3844-4d4f-f78b-616cb6ca0dd0"
      },
      "execution_count": 237,
      "outputs": [
        {
          "output_type": "execute_result",
          "data": {
            "text/plain": [
              "LinearRegression()"
            ]
          },
          "metadata": {},
          "execution_count": 237
        }
      ]
    },
    {
      "cell_type": "code",
      "source": [
        "# Cross-validation\n",
        "y_test_pred = cross_val_predict(lin_reg, X_test, y_test, cv=10)\n",
        " \n",
        "# Calculate scores\n",
        "score = r2_score(y_test, y_test_pred)\n",
        "rmse = (mean_squared_error(y_test, y_test_pred))**(1/2)\n",
        "print(\"R²: \", score, \"\\nRMSE: \", rmse)"
      ],
      "metadata": {
        "colab": {
          "base_uri": "https://localhost:8080/"
        },
        "id": "sHgFxl2gZU2H",
        "outputId": "58addb1c-5e29-4858-f7d9-47fd151715dd"
      },
      "execution_count": 238,
      "outputs": [
        {
          "output_type": "stream",
          "name": "stdout",
          "text": [
            "R²:  -0.30952047241889447 \n",
            "RMSE:  0.3678998079933773\n"
          ]
        }
      ]
    }
  ]
}